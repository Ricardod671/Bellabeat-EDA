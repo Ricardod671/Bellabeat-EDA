{
 "cells": [
  {
   "attachments": {},
   "cell_type": "markdown",
   "metadata": {},
   "source": [
    "# EDA for Bellabeat\n",
    "\n",
    "## Questions that need to be answers \n",
    "\n",
    "### 1. What are some usage trends for smart devices?\n",
    "### 2. How could these trends be applied to Bellabeat's clients?\n",
    "### 3. How could these trends help influence Bellabeat's marketing strategy?"
   ]
  },
  {
   "attachments": {},
   "cell_type": "markdown",
   "metadata": {},
   "source": [
    "The information come from [kaggle](https://www.kaggle.com/datasets/arashnic/fitbit)"
   ]
  },
  {
   "cell_type": "markdown",
   "metadata": {},
   "source": []
  },
  {
   "cell_type": "code",
   "execution_count": null,
   "metadata": {},
   "outputs": [],
   "source": []
  },
  {
   "cell_type": "code",
   "execution_count": null,
   "metadata": {},
   "outputs": [],
   "source": []
  }
 ],
 "metadata": {
  "language_info": {
   "name": "python"
  },
  "orig_nbformat": 4
 },
 "nbformat": 4,
 "nbformat_minor": 2
}
